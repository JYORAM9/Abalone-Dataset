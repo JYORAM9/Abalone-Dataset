{
 "cells": [
  {
   "cell_type": "code",
   "execution_count": 19,
   "metadata": {},
   "outputs": [
    {
     "name": "stderr",
     "output_type": "stream",
     "text": [
      "C:\\Users\\saira\\Anaconda3\\lib\\site-packages\\sklearn\\discriminant_analysis.py:442: UserWarning: The priors do not sum to 1. Renormalizing\n",
      "  UserWarning)\n",
      "C:\\Users\\saira\\Anaconda3\\lib\\site-packages\\sklearn\\discriminant_analysis.py:442: UserWarning: The priors do not sum to 1. Renormalizing\n",
      "  UserWarning)\n",
      "C:\\Users\\saira\\Anaconda3\\lib\\site-packages\\sklearn\\discriminant_analysis.py:442: UserWarning: The priors do not sum to 1. Renormalizing\n",
      "  UserWarning)\n"
     ]
    },
    {
     "data": {
      "text/plain": [
       "Text(0.5,1,'LDA vs PDA vs Random Forest Classifier')"
      ]
     },
     "execution_count": 19,
     "metadata": {},
     "output_type": "execute_result"
    },
    {
     "data": {
      "image/png": "[encoded data removed]",
      "text/plain": [
       "<Figure size 576x576 with 1 Axes>"
      ]
     },
     "metadata": {},
     "output_type": "display_data"
    }
   ],
   "source": [
    "import pandas as pd\n",
    "import numpy as np\n",
    "import matplotlib.pyplot as plt\n",
    "import os\n",
    "from sklearn.cross_validation import train_test_split\n",
    "from sklearn.decomposition import PCA\n",
    "from sklearn.discriminant_analysis import LinearDiscriminantAnalysis\n",
    "from sklearn.metrics import accuracy_score\n",
    "from sklearn.ensemble import RandomForestClassifier\n",
    "\n",
    "\n",
    "df = pd.read_csv('abalone_data.txt')\n",
    "\n",
    "\n",
    "\n",
    "def catger(rr):\n",
    "    if 1 <= rr <=8  : return '1'\n",
    "    elif 9 <= rr <=16: return '2'\n",
    "    elif 17 <= rr <=24: return '3'\n",
    "    elif 25 <= rr <=29: return '4'   \n",
    "    else: return 'None'\n",
    "    \n",
    "df['Rings'] = df['Rings'].map(catger)\n",
    "\n",
    "X =df.iloc[:,0:7]\n",
    "y =df.iloc[:,-1]\n",
    "\n",
    "from sklearn.preprocessing import LabelEncoder\n",
    "labelencoder_X=LabelEncoder()\n",
    "X.iloc[:,0] = labelencoder_X.fit_transform(X.iloc[:,0])\n",
    "\n",
    "accl=[]\n",
    "accp =[]\n",
    "acc =[]\n",
    "for i in [0.10,0.20,0.30,0.40,0.50]:\n",
    "\n",
    "    X_train ,X_test,y_train,y_test = train_test_split(X,y, test_size=i,random_state=0) \n",
    "    \n",
    "    classifier = RandomForestClassifier(n_estimators = 200, criterion ='entropy', random_state = 0)\n",
    "    classifierp = RandomForestClassifier(n_estimators = 200, criterion ='entropy', random_state = 0)\n",
    "    classifierl = RandomForestClassifier(n_estimators = 200, criterion ='entropy', random_state = 0)\n",
    "    \n",
    "    # Feature Scaling\n",
    "    from sklearn.preprocessing import StandardScaler\n",
    "    sc = StandardScaler()\n",
    "    X_train = sc.fit_transform(X_train)\n",
    "    X_test = sc.transform(X_test)\n",
    "    \n",
    "    #Computing PCA projection\n",
    "    pca = PCA(n_components=3)\n",
    "    X_trainp= pca.fit(X_train).transform(X_train)\n",
    "    X_testp = pca.transform(X_test)\n",
    "    classifierp.fit(X_trainp,y_train)\n",
    "    p_pred = classifierp.predict(X_testp)\n",
    "    # Accuracy of PCA\n",
    "    acc1 = accuracy_score(y_test, p_pred)\n",
    "    accp.append(acc1)\n",
    "    \n",
    "    #Computing Linear Discriminant Analysis projection\n",
    "    lda = LinearDiscriminantAnalysis(n_components=3)\n",
    "    X_trainl = lda.fit(X_train, y_train).transform(X_train)\n",
    "    X_testl = lda.transform(X_test)\n",
    "    classifierl.fit(X_trainl,y_train)\n",
    "    l_pred = classifierl.predict(X_testl)\n",
    "    #Accuracy of LDA\n",
    "    acc2 = accuracy_score(y_test, l_pred)\n",
    "    accl.append(acc2)\n",
    "    \n",
    "    \n",
    "    #Computing Classifier\n",
    "    classifier.fit(X_train,y_train)\n",
    "    y_pred = pred = classifier.predict(X_test)\n",
    "    #Accuracy of Classifier\n",
    "    acc3 = accuracy_score(y_test, y_pred)\n",
    "    acc.append(acc3)\n",
    "    \n",
    "\n",
    "    \n",
    "trainsize = [0.10,0.20,0.30,0.40,0.50]\n",
    "fig = plt.figure(figsize=(8,8))\n",
    "ax = fig.add_subplot(1, 1, 1)\n",
    "plt.scatter(trainsize,acc,color='green')\n",
    "plt.plot(trainsize,acc,color='green',label ='Classifier')\n",
    "plt.scatter(trainsize,accl,color='blue')\n",
    "plt.plot(trainsize,accl,color='blue',label='LDA')\n",
    "plt.scatter(trainsize,accp,color='red')\n",
    "plt.plot(trainsize,accp,color='red',label = 'PCA')\n",
    "plt.legend()\n",
    "plt.axis([0,0.6,0.70,0.90])\n",
    "plt.xlabel('training size')\n",
    "plt.ylabel('accuracy')\n",
    "plt.title('LDA vs PDA vs Random Forest Classifier')\n"
   ]
  },
  {
   "cell_type": "code",
   "execution_count": 20,
   "metadata": {},
   "outputs": [
    {
     "name": "stdout",
     "output_type": "stream",
     "text": [
      "Random Forest Classifier Accuracy\n",
      " [0.8229665071770335, 0.80622009569378, 0.8110047846889952, 0.7917414721723519, 0.7975107707036859]\n",
      "PCA Accuracy\n",
      " [0.777511961722488, 0.7834928229665071, 0.7783094098883573, 0.7827648114901257, 0.7817137386309239]\n",
      "LDA Accuracy\n",
      " [0.7942583732057417, 0.7727272727272727, 0.7830940988835726, 0.7887492519449432, 0.768310196266156]\n"
     ]
    }
   ],
   "source": [
    "print(\"Random Forest Classifier Accuracy\\n\", acc)\n",
    "print(\"PCA Accuracy\\n\", accp)\n",
    "print(\"LDA Accuracy\\n\", accl)"
   ]
  },
  {
   "cell_type": "code",
   "execution_count": null,
   "metadata": {},
   "outputs": [],
   "source": []
  }
 ],
 "metadata": {
  "kernelspec": {
   "display_name": "Python 3",
   "language": "python",
   "name": "python3"
  },
  "language_info": {
   "codemirror_mode": {
    "name": "ipython",
    "version": 3
   },
   "file_extension": ".py",
   "mimetype": "text/x-python",
   "name": "python",
   "nbconvert_exporter": "python",
   "pygments_lexer": "ipython3",
   "version": "3.6.5"
  }
 },
 "nbformat": 4,
 "nbformat_minor": 2
}
